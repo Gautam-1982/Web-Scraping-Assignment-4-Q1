{
 "cells": [
  {
   "cell_type": "code",
   "execution_count": 166,
   "metadata": {},
   "outputs": [],
   "source": [
    "import selenium\n",
    "from selenium import webdriver\n",
    "from selenium.webdriver.common.by import By\n",
    "from selenium.webdriver.support.ui import WebDriverWait\n",
    "from selenium.webdriver.support import expected_conditions as EC\n",
    "import time\n",
    "import requests\n",
    "from bs4 import BeautifulSoup\n",
    "import os\n",
    "import pandas as pd\n",
    "from selenium.common.exceptions import StaleElementReferenceException, NoSuchElementException,ElementNotInteractableException,InvalidArgumentException,InvalidCookieDomainException"
   ]
  },
  {
   "cell_type": "code",
   "execution_count": 167,
   "metadata": {},
   "outputs": [],
   "source": [
    "driver = webdriver.Chrome(executable_path=\"D:\\\\chromedriver_win32\\\\chromedriver.exe\")"
   ]
  },
  {
   "cell_type": "code",
   "execution_count": 168,
   "metadata": {},
   "outputs": [],
   "source": [
    "url=\"https://en.wikipedia.org/wiki/List_of_most-viewed_YouTube_videos\""
   ]
  },
  {
   "cell_type": "code",
   "execution_count": 169,
   "metadata": {},
   "outputs": [],
   "source": [
    "driver.get(url)"
   ]
  },
  {
   "cell_type": "code",
   "execution_count": 170,
   "metadata": {},
   "outputs": [],
   "source": [
    "Rank =[]\n",
    "Name =[]\n",
    "Artist=[]\n",
    "Upload_date =[]\n",
    "Views =[]\n",
    "\n"
   ]
  },
  {
   "cell_type": "code",
   "execution_count": 171,
   "metadata": {},
   "outputs": [
    {
     "data": {
      "text/plain": [
       "[<selenium.webdriver.remote.webelement.WebElement (session=\"e1feae22a1ea9e352c3ccd2de0656e17\", element=\"947b8f49-0b52-49a0-b13e-4fca3421b4a0\")>,\n",
       " <selenium.webdriver.remote.webelement.WebElement (session=\"e1feae22a1ea9e352c3ccd2de0656e17\", element=\"d480458f-5223-4fe9-a8cb-dda60a4f2efd\")>,\n",
       " <selenium.webdriver.remote.webelement.WebElement (session=\"e1feae22a1ea9e352c3ccd2de0656e17\", element=\"cdf469d2-5a0e-4ed3-bd75-322fb962b68c\")>]"
      ]
     },
     "execution_count": 171,
     "metadata": {},
     "output_type": "execute_result"
    }
   ],
   "source": [
    "rank = driver.find_elements_by_xpath('//*[@id=\"mw-content-text\"]/div[1]/table[3]/tbody/tr/td[1]')[0:30]\n",
    "rank[0:3]"
   ]
  },
  {
   "cell_type": "code",
   "execution_count": 172,
   "metadata": {},
   "outputs": [
    {
     "data": {
      "text/plain": [
       "['1.',\n",
       " '2.',\n",
       " '3.',\n",
       " '4.',\n",
       " '5.',\n",
       " '6.',\n",
       " '7.',\n",
       " '8.',\n",
       " '9.',\n",
       " '10.',\n",
       " '11.',\n",
       " '12.',\n",
       " '13.',\n",
       " '14.',\n",
       " '15.',\n",
       " '16.',\n",
       " '17.',\n",
       " '18.',\n",
       " '19.',\n",
       " '20.',\n",
       " '21.',\n",
       " '22.',\n",
       " '23.',\n",
       " '24.',\n",
       " '25.',\n",
       " '26.',\n",
       " '27.',\n",
       " '28.',\n",
       " '29.',\n",
       " '30.']"
      ]
     },
     "execution_count": 172,
     "metadata": {},
     "output_type": "execute_result"
    }
   ],
   "source": [
    "for i in rank:\n",
    "    ranks=i.text.replace(\"\\n\",\" \")\n",
    "    Rank.append(ranks)\n",
    "Rank"
   ]
  },
  {
   "cell_type": "code",
   "execution_count": 173,
   "metadata": {},
   "outputs": [
    {
     "data": {
      "text/plain": [
       "[<selenium.webdriver.remote.webelement.WebElement (session=\"e1feae22a1ea9e352c3ccd2de0656e17\", element=\"cc1f5c6e-0d12-4ba1-a253-f1ac389b5ecd\")>,\n",
       " <selenium.webdriver.remote.webelement.WebElement (session=\"e1feae22a1ea9e352c3ccd2de0656e17\", element=\"6b1ce05b-6b51-47a4-ba56-383979e5da87\")>,\n",
       " <selenium.webdriver.remote.webelement.WebElement (session=\"e1feae22a1ea9e352c3ccd2de0656e17\", element=\"75e7f83a-d1ba-4865-ba82-d21afe3d53a0\")>]"
      ]
     },
     "execution_count": 173,
     "metadata": {},
     "output_type": "execute_result"
    }
   ],
   "source": [
    "name=driver.find_elements_by_xpath(\"//div[@id='mw-content-text']/div[1]/table[3]/tbody/tr/td[2]\")[0:30]\n",
    "name[0:3]"
   ]
  },
  {
   "cell_type": "code",
   "execution_count": 174,
   "metadata": {},
   "outputs": [
    {
     "data": {
      "text/plain": [
       "['\"Baby Shark Dance\"[22]',\n",
       " '\"Despacito\"[24]',\n",
       " '\"Shape of You\"[25]',\n",
       " '\"Johny Johny Yes Papa\"[26]',\n",
       " '\"See You Again\"[27]',\n",
       " '\"Masha and the Bear – Recipe for Disaster\"[30]',\n",
       " '\"Uptown Funk\"[31]',\n",
       " '\"Gangnam Style\"[32]',\n",
       " '\"Learning Colors – Colorful Eggs on a Farm\"[34]',\n",
       " '\"Bath Song\"[35]',\n",
       " '\"Phonics Song with Two Words\"[36]',\n",
       " '\"Sugar\"[37]',\n",
       " '\"Sorry\"[38]',\n",
       " '\"Roar\"[39]',\n",
       " '\"Dame Tu Cosita\"[40]',\n",
       " '\"Counting Stars\"[41]',\n",
       " '\"Thinking Out Loud\"[42]',\n",
       " '\"Dark Horse\"[43]',\n",
       " '\"Faded\"[44]',\n",
       " '\"Shake It Off\"[45]',\n",
       " '\"Lean On\"[46]',\n",
       " '\"Bailando\"[47]',\n",
       " '\"Girls Like You\"[48]',\n",
       " '\"Let Her Go\"[49]',\n",
       " '\"Mi Gente\"[50]',\n",
       " '\"Wheels on the Bus\"[51]',\n",
       " '\"Hello\"[52]',\n",
       " '\"Perfect\"[53]',\n",
       " '\"Waka Waka (This Time for Africa)\"[54]',\n",
       " '\"Axel F\"[55]']"
      ]
     },
     "execution_count": 174,
     "metadata": {},
     "output_type": "execute_result"
    }
   ],
   "source": [
    "video_name=[]\n",
    "for i in name:\n",
    "    names=i.text.replace(\"\\n\",\" \")\n",
    "    video_name.append(names)\n",
    "video_name"
   ]
  },
  {
   "cell_type": "code",
   "execution_count": 175,
   "metadata": {},
   "outputs": [
    {
     "data": {
      "text/plain": [
       "[<selenium.webdriver.remote.webelement.WebElement (session=\"e1feae22a1ea9e352c3ccd2de0656e17\", element=\"16e79818-37b8-423a-a243-6ed5d1974603\")>,\n",
       " <selenium.webdriver.remote.webelement.WebElement (session=\"e1feae22a1ea9e352c3ccd2de0656e17\", element=\"44ab9070-43c4-4744-9929-742f15b71221\")>,\n",
       " <selenium.webdriver.remote.webelement.WebElement (session=\"e1feae22a1ea9e352c3ccd2de0656e17\", element=\"62e01ca0-d2c5-4e51-9c8b-fd796813cdab\")>]"
      ]
     },
     "execution_count": 175,
     "metadata": {},
     "output_type": "execute_result"
    }
   ],
   "source": [
    "date = driver.find_elements_by_xpath(\"//td[@align='right']\")[0:30]\n",
    "date[0:3]"
   ]
  },
  {
   "cell_type": "code",
   "execution_count": 176,
   "metadata": {},
   "outputs": [
    {
     "data": {
      "text/plain": [
       "['June 17, 2016',\n",
       " 'January 12, 2017',\n",
       " 'January 30, 2017',\n",
       " 'October 8, 2016',\n",
       " 'April 6, 2015',\n",
       " 'January 31, 2012',\n",
       " 'November 19, 2014',\n",
       " 'July 15, 2012',\n",
       " 'February 27, 2018',\n",
       " 'May 2, 2018',\n",
       " 'March 6, 2014',\n",
       " 'January 14, 2015',\n",
       " 'October 22, 2015',\n",
       " 'September 5, 2013',\n",
       " 'April 5, 2018',\n",
       " 'May 31, 2013',\n",
       " 'October 7, 2014',\n",
       " 'February 20, 2014',\n",
       " 'December 3, 2015',\n",
       " 'August 18, 2014',\n",
       " 'March 22, 2015',\n",
       " 'April 11, 2014',\n",
       " 'May 31, 2018',\n",
       " 'July 25, 2012',\n",
       " 'June 29, 2017',\n",
       " 'May 24, 2018',\n",
       " 'October 22, 2015',\n",
       " 'November 9, 2017',\n",
       " 'June 4, 2010',\n",
       " 'June 16, 2009']"
      ]
     },
     "execution_count": 176,
     "metadata": {},
     "output_type": "execute_result"
    }
   ],
   "source": [
    "for i in date:\n",
    "    dates=i.text.replace(\"\\n\",\" \")\n",
    "    Upload_date.append(dates)\n",
    "Upload_date"
   ]
  },
  {
   "cell_type": "code",
   "execution_count": 188,
   "metadata": {},
   "outputs": [
    {
     "data": {
      "text/plain": [
       "[<selenium.webdriver.remote.webelement.WebElement (session=\"e1feae22a1ea9e352c3ccd2de0656e17\", element=\"81a265bc-9cc2-4985-b3a3-746619978e6b\")>,\n",
       " <selenium.webdriver.remote.webelement.WebElement (session=\"e1feae22a1ea9e352c3ccd2de0656e17\", element=\"73e51316-67a6-4303-9eeb-7c6a7a5ebfd2\")>,\n",
       " <selenium.webdriver.remote.webelement.WebElement (session=\"e1feae22a1ea9e352c3ccd2de0656e17\", element=\"88cbb307-71fb-4e05-9edd-4b53284f8252\")>]"
      ]
     },
     "execution_count": 188,
     "metadata": {},
     "output_type": "execute_result"
    }
   ],
   "source": [
    "artist=driver.find_elements_by_xpath(\"//div[@id='mw-content-text']/div[1]/table[3]/tbody/tr/td[3]\")[0:30]\n",
    "artist[0:3]"
   ]
  },
  {
   "cell_type": "code",
   "execution_count": 189,
   "metadata": {},
   "outputs": [
    {
     "data": {
      "text/plain": [
       "[\"Pinkfong Kids' Songs & Stories\",\n",
       " 'Luis Fonsi',\n",
       " 'Ed Sheeran',\n",
       " 'LooLoo Kids',\n",
       " 'Wiz Khalifa',\n",
       " 'Get Movies',\n",
       " 'Mark Ronson',\n",
       " 'Psy',\n",
       " 'Miroshka TV',\n",
       " 'Cocomelon – Nursery Rhymes',\n",
       " 'ChuChu TV',\n",
       " 'Maroon 5',\n",
       " 'Justin Bieber',\n",
       " 'Katy Perry',\n",
       " 'El Chombo',\n",
       " 'OneRepublic',\n",
       " 'Ed Sheeran',\n",
       " 'Katy Perry',\n",
       " 'Alan Walker',\n",
       " 'Taylor Swift',\n",
       " 'Major Lazer Official',\n",
       " 'Enrique Iglesias',\n",
       " 'Maroon 5',\n",
       " 'Passenger',\n",
       " 'J Balvin',\n",
       " 'Cocomelon – Nursery Rhymes',\n",
       " 'Adele',\n",
       " 'Ed Sheeran',\n",
       " 'Shakira',\n",
       " 'Crazy Frog']"
      ]
     },
     "execution_count": 189,
     "metadata": {},
     "output_type": "execute_result"
    }
   ],
   "source": [
    "Artist=[]\n",
    "for i in artist:\n",
    "    artists=i.text.replace(\"\\n\",\" \")\n",
    "    Artist.append(artists)\n",
    "Artist"
   ]
  },
  {
   "cell_type": "code",
   "execution_count": 185,
   "metadata": {},
   "outputs": [
    {
     "data": {
      "text/plain": [
       "[<selenium.webdriver.remote.webelement.WebElement (session=\"e1feae22a1ea9e352c3ccd2de0656e17\", element=\"94088def-8238-4aa0-b893-cc0e715f3e8f\")>,\n",
       " <selenium.webdriver.remote.webelement.WebElement (session=\"e1feae22a1ea9e352c3ccd2de0656e17\", element=\"11e5a12e-8840-4f30-8a77-414d69aa0826\")>,\n",
       " <selenium.webdriver.remote.webelement.WebElement (session=\"e1feae22a1ea9e352c3ccd2de0656e17\", element=\"494158bb-d9c8-4fdd-8f65-f6e68ea20129\")>]"
      ]
     },
     "execution_count": 185,
     "metadata": {},
     "output_type": "execute_result"
    }
   ],
   "source": [
    "view=driver.find_elements_by_xpath('//*[@id=\"mw-content-text\"]/div[1]/table[3]/tbody/tr/td[4]')[0:30]\n",
    "view[0:3]"
   ]
  },
  {
   "cell_type": "code",
   "execution_count": 186,
   "metadata": {},
   "outputs": [
    {
     "data": {
      "text/plain": [
       "['8.44',\n",
       " '7.32',\n",
       " '5.29',\n",
       " '5.24',\n",
       " '5.08',\n",
       " '4.43',\n",
       " '4.16',\n",
       " '4.05',\n",
       " '3.97',\n",
       " '3.95',\n",
       " '3.78',\n",
       " '3.45',\n",
       " '3.43',\n",
       " '3.34',\n",
       " '3.28',\n",
       " '3.27',\n",
       " '3.24',\n",
       " '3.05',\n",
       " '3.05',\n",
       " '3.05',\n",
       " '3.02',\n",
       " '3.01',\n",
       " '3.01',\n",
       " '2.97',\n",
       " '2.90',\n",
       " '2.89',\n",
       " '2.83',\n",
       " '2.82',\n",
       " '2.80',\n",
       " '2.77']"
      ]
     },
     "execution_count": 186,
     "metadata": {},
     "output_type": "execute_result"
    }
   ],
   "source": [
    "for i in view:\n",
    "    views=i.text.replace(\"\\n\",\" \")\n",
    "    Views.append(views)\n",
    "Views"
   ]
  },
  {
   "cell_type": "code",
   "execution_count": 190,
   "metadata": {},
   "outputs": [
    {
     "name": "stdout",
     "output_type": "stream",
     "text": [
      "30 30 30 30 30\n"
     ]
    }
   ],
   "source": [
    "print(len(Rank),len(video_name),len(Artist),len(Upload_date),len(Views))"
   ]
  },
  {
   "cell_type": "code",
   "execution_count": 191,
   "metadata": {},
   "outputs": [],
   "source": [
    "Youtube=pd.DataFrame({})\n",
    "Youtube['Rank']=Rank\n",
    "Youtube['video_name']=video_name\n",
    "Youtube['Artist']=Artist\n",
    "Youtube['Upload_date']=Upload_date\n",
    "Youtube['Views']=Views"
   ]
  },
  {
   "cell_type": "code",
   "execution_count": 192,
   "metadata": {},
   "outputs": [
    {
     "data": {
      "text/html": [
       "<div>\n",
       "<style scoped>\n",
       "    .dataframe tbody tr th:only-of-type {\n",
       "        vertical-align: middle;\n",
       "    }\n",
       "\n",
       "    .dataframe tbody tr th {\n",
       "        vertical-align: top;\n",
       "    }\n",
       "\n",
       "    .dataframe thead th {\n",
       "        text-align: right;\n",
       "    }\n",
       "</style>\n",
       "<table border=\"1\" class=\"dataframe\">\n",
       "  <thead>\n",
       "    <tr style=\"text-align: right;\">\n",
       "      <th></th>\n",
       "      <th>Rank</th>\n",
       "      <th>video_name</th>\n",
       "      <th>Artist</th>\n",
       "      <th>Upload_date</th>\n",
       "      <th>Views</th>\n",
       "    </tr>\n",
       "  </thead>\n",
       "  <tbody>\n",
       "    <tr>\n",
       "      <th>0</th>\n",
       "      <td>1.</td>\n",
       "      <td>\"Baby Shark Dance\"[22]</td>\n",
       "      <td>Pinkfong Kids' Songs &amp; Stories</td>\n",
       "      <td>June 17, 2016</td>\n",
       "      <td>8.44</td>\n",
       "    </tr>\n",
       "    <tr>\n",
       "      <th>1</th>\n",
       "      <td>2.</td>\n",
       "      <td>\"Despacito\"[24]</td>\n",
       "      <td>Luis Fonsi</td>\n",
       "      <td>January 12, 2017</td>\n",
       "      <td>7.32</td>\n",
       "    </tr>\n",
       "    <tr>\n",
       "      <th>2</th>\n",
       "      <td>3.</td>\n",
       "      <td>\"Shape of You\"[25]</td>\n",
       "      <td>Ed Sheeran</td>\n",
       "      <td>January 30, 2017</td>\n",
       "      <td>5.29</td>\n",
       "    </tr>\n",
       "    <tr>\n",
       "      <th>3</th>\n",
       "      <td>4.</td>\n",
       "      <td>\"Johny Johny Yes Papa\"[26]</td>\n",
       "      <td>LooLoo Kids</td>\n",
       "      <td>October 8, 2016</td>\n",
       "      <td>5.24</td>\n",
       "    </tr>\n",
       "    <tr>\n",
       "      <th>4</th>\n",
       "      <td>5.</td>\n",
       "      <td>\"See You Again\"[27]</td>\n",
       "      <td>Wiz Khalifa</td>\n",
       "      <td>April 6, 2015</td>\n",
       "      <td>5.08</td>\n",
       "    </tr>\n",
       "    <tr>\n",
       "      <th>5</th>\n",
       "      <td>6.</td>\n",
       "      <td>\"Masha and the Bear – Recipe for Disaster\"[30]</td>\n",
       "      <td>Get Movies</td>\n",
       "      <td>January 31, 2012</td>\n",
       "      <td>4.43</td>\n",
       "    </tr>\n",
       "    <tr>\n",
       "      <th>6</th>\n",
       "      <td>7.</td>\n",
       "      <td>\"Uptown Funk\"[31]</td>\n",
       "      <td>Mark Ronson</td>\n",
       "      <td>November 19, 2014</td>\n",
       "      <td>4.16</td>\n",
       "    </tr>\n",
       "    <tr>\n",
       "      <th>7</th>\n",
       "      <td>8.</td>\n",
       "      <td>\"Gangnam Style\"[32]</td>\n",
       "      <td>Psy</td>\n",
       "      <td>July 15, 2012</td>\n",
       "      <td>4.05</td>\n",
       "    </tr>\n",
       "    <tr>\n",
       "      <th>8</th>\n",
       "      <td>9.</td>\n",
       "      <td>\"Learning Colors – Colorful Eggs on a Farm\"[34]</td>\n",
       "      <td>Miroshka TV</td>\n",
       "      <td>February 27, 2018</td>\n",
       "      <td>3.97</td>\n",
       "    </tr>\n",
       "    <tr>\n",
       "      <th>9</th>\n",
       "      <td>10.</td>\n",
       "      <td>\"Bath Song\"[35]</td>\n",
       "      <td>Cocomelon – Nursery Rhymes</td>\n",
       "      <td>May 2, 2018</td>\n",
       "      <td>3.95</td>\n",
       "    </tr>\n",
       "    <tr>\n",
       "      <th>10</th>\n",
       "      <td>11.</td>\n",
       "      <td>\"Phonics Song with Two Words\"[36]</td>\n",
       "      <td>ChuChu TV</td>\n",
       "      <td>March 6, 2014</td>\n",
       "      <td>3.78</td>\n",
       "    </tr>\n",
       "    <tr>\n",
       "      <th>11</th>\n",
       "      <td>12.</td>\n",
       "      <td>\"Sugar\"[37]</td>\n",
       "      <td>Maroon 5</td>\n",
       "      <td>January 14, 2015</td>\n",
       "      <td>3.45</td>\n",
       "    </tr>\n",
       "    <tr>\n",
       "      <th>12</th>\n",
       "      <td>13.</td>\n",
       "      <td>\"Sorry\"[38]</td>\n",
       "      <td>Justin Bieber</td>\n",
       "      <td>October 22, 2015</td>\n",
       "      <td>3.43</td>\n",
       "    </tr>\n",
       "    <tr>\n",
       "      <th>13</th>\n",
       "      <td>14.</td>\n",
       "      <td>\"Roar\"[39]</td>\n",
       "      <td>Katy Perry</td>\n",
       "      <td>September 5, 2013</td>\n",
       "      <td>3.34</td>\n",
       "    </tr>\n",
       "    <tr>\n",
       "      <th>14</th>\n",
       "      <td>15.</td>\n",
       "      <td>\"Dame Tu Cosita\"[40]</td>\n",
       "      <td>El Chombo</td>\n",
       "      <td>April 5, 2018</td>\n",
       "      <td>3.28</td>\n",
       "    </tr>\n",
       "    <tr>\n",
       "      <th>15</th>\n",
       "      <td>16.</td>\n",
       "      <td>\"Counting Stars\"[41]</td>\n",
       "      <td>OneRepublic</td>\n",
       "      <td>May 31, 2013</td>\n",
       "      <td>3.27</td>\n",
       "    </tr>\n",
       "    <tr>\n",
       "      <th>16</th>\n",
       "      <td>17.</td>\n",
       "      <td>\"Thinking Out Loud\"[42]</td>\n",
       "      <td>Ed Sheeran</td>\n",
       "      <td>October 7, 2014</td>\n",
       "      <td>3.24</td>\n",
       "    </tr>\n",
       "    <tr>\n",
       "      <th>17</th>\n",
       "      <td>18.</td>\n",
       "      <td>\"Dark Horse\"[43]</td>\n",
       "      <td>Katy Perry</td>\n",
       "      <td>February 20, 2014</td>\n",
       "      <td>3.05</td>\n",
       "    </tr>\n",
       "    <tr>\n",
       "      <th>18</th>\n",
       "      <td>19.</td>\n",
       "      <td>\"Faded\"[44]</td>\n",
       "      <td>Alan Walker</td>\n",
       "      <td>December 3, 2015</td>\n",
       "      <td>3.05</td>\n",
       "    </tr>\n",
       "    <tr>\n",
       "      <th>19</th>\n",
       "      <td>20.</td>\n",
       "      <td>\"Shake It Off\"[45]</td>\n",
       "      <td>Taylor Swift</td>\n",
       "      <td>August 18, 2014</td>\n",
       "      <td>3.05</td>\n",
       "    </tr>\n",
       "    <tr>\n",
       "      <th>20</th>\n",
       "      <td>21.</td>\n",
       "      <td>\"Lean On\"[46]</td>\n",
       "      <td>Major Lazer Official</td>\n",
       "      <td>March 22, 2015</td>\n",
       "      <td>3.02</td>\n",
       "    </tr>\n",
       "    <tr>\n",
       "      <th>21</th>\n",
       "      <td>22.</td>\n",
       "      <td>\"Bailando\"[47]</td>\n",
       "      <td>Enrique Iglesias</td>\n",
       "      <td>April 11, 2014</td>\n",
       "      <td>3.01</td>\n",
       "    </tr>\n",
       "    <tr>\n",
       "      <th>22</th>\n",
       "      <td>23.</td>\n",
       "      <td>\"Girls Like You\"[48]</td>\n",
       "      <td>Maroon 5</td>\n",
       "      <td>May 31, 2018</td>\n",
       "      <td>3.01</td>\n",
       "    </tr>\n",
       "    <tr>\n",
       "      <th>23</th>\n",
       "      <td>24.</td>\n",
       "      <td>\"Let Her Go\"[49]</td>\n",
       "      <td>Passenger</td>\n",
       "      <td>July 25, 2012</td>\n",
       "      <td>2.97</td>\n",
       "    </tr>\n",
       "    <tr>\n",
       "      <th>24</th>\n",
       "      <td>25.</td>\n",
       "      <td>\"Mi Gente\"[50]</td>\n",
       "      <td>J Balvin</td>\n",
       "      <td>June 29, 2017</td>\n",
       "      <td>2.90</td>\n",
       "    </tr>\n",
       "    <tr>\n",
       "      <th>25</th>\n",
       "      <td>26.</td>\n",
       "      <td>\"Wheels on the Bus\"[51]</td>\n",
       "      <td>Cocomelon – Nursery Rhymes</td>\n",
       "      <td>May 24, 2018</td>\n",
       "      <td>2.89</td>\n",
       "    </tr>\n",
       "    <tr>\n",
       "      <th>26</th>\n",
       "      <td>27.</td>\n",
       "      <td>\"Hello\"[52]</td>\n",
       "      <td>Adele</td>\n",
       "      <td>October 22, 2015</td>\n",
       "      <td>2.83</td>\n",
       "    </tr>\n",
       "    <tr>\n",
       "      <th>27</th>\n",
       "      <td>28.</td>\n",
       "      <td>\"Perfect\"[53]</td>\n",
       "      <td>Ed Sheeran</td>\n",
       "      <td>November 9, 2017</td>\n",
       "      <td>2.82</td>\n",
       "    </tr>\n",
       "    <tr>\n",
       "      <th>28</th>\n",
       "      <td>29.</td>\n",
       "      <td>\"Waka Waka (This Time for Africa)\"[54]</td>\n",
       "      <td>Shakira</td>\n",
       "      <td>June 4, 2010</td>\n",
       "      <td>2.80</td>\n",
       "    </tr>\n",
       "    <tr>\n",
       "      <th>29</th>\n",
       "      <td>30.</td>\n",
       "      <td>\"Axel F\"[55]</td>\n",
       "      <td>Crazy Frog</td>\n",
       "      <td>June 16, 2009</td>\n",
       "      <td>2.77</td>\n",
       "    </tr>\n",
       "  </tbody>\n",
       "</table>\n",
       "</div>"
      ],
      "text/plain": [
       "   Rank                                       video_name  \\\n",
       "0    1.                           \"Baby Shark Dance\"[22]   \n",
       "1    2.                                  \"Despacito\"[24]   \n",
       "2    3.                               \"Shape of You\"[25]   \n",
       "3    4.                       \"Johny Johny Yes Papa\"[26]   \n",
       "4    5.                              \"See You Again\"[27]   \n",
       "5    6.   \"Masha and the Bear – Recipe for Disaster\"[30]   \n",
       "6    7.                                \"Uptown Funk\"[31]   \n",
       "7    8.                              \"Gangnam Style\"[32]   \n",
       "8    9.  \"Learning Colors – Colorful Eggs on a Farm\"[34]   \n",
       "9   10.                                  \"Bath Song\"[35]   \n",
       "10  11.                \"Phonics Song with Two Words\"[36]   \n",
       "11  12.                                      \"Sugar\"[37]   \n",
       "12  13.                                      \"Sorry\"[38]   \n",
       "13  14.                                       \"Roar\"[39]   \n",
       "14  15.                             \"Dame Tu Cosita\"[40]   \n",
       "15  16.                             \"Counting Stars\"[41]   \n",
       "16  17.                          \"Thinking Out Loud\"[42]   \n",
       "17  18.                                 \"Dark Horse\"[43]   \n",
       "18  19.                                      \"Faded\"[44]   \n",
       "19  20.                               \"Shake It Off\"[45]   \n",
       "20  21.                                    \"Lean On\"[46]   \n",
       "21  22.                                   \"Bailando\"[47]   \n",
       "22  23.                             \"Girls Like You\"[48]   \n",
       "23  24.                                 \"Let Her Go\"[49]   \n",
       "24  25.                                   \"Mi Gente\"[50]   \n",
       "25  26.                          \"Wheels on the Bus\"[51]   \n",
       "26  27.                                      \"Hello\"[52]   \n",
       "27  28.                                    \"Perfect\"[53]   \n",
       "28  29.           \"Waka Waka (This Time for Africa)\"[54]   \n",
       "29  30.                                     \"Axel F\"[55]   \n",
       "\n",
       "                            Artist        Upload_date Views  \n",
       "0   Pinkfong Kids' Songs & Stories      June 17, 2016  8.44  \n",
       "1                       Luis Fonsi   January 12, 2017  7.32  \n",
       "2                       Ed Sheeran   January 30, 2017  5.29  \n",
       "3                      LooLoo Kids    October 8, 2016  5.24  \n",
       "4                      Wiz Khalifa      April 6, 2015  5.08  \n",
       "5                       Get Movies   January 31, 2012  4.43  \n",
       "6                      Mark Ronson  November 19, 2014  4.16  \n",
       "7                              Psy      July 15, 2012  4.05  \n",
       "8                      Miroshka TV  February 27, 2018  3.97  \n",
       "9       Cocomelon – Nursery Rhymes        May 2, 2018  3.95  \n",
       "10                       ChuChu TV      March 6, 2014  3.78  \n",
       "11                        Maroon 5   January 14, 2015  3.45  \n",
       "12                   Justin Bieber   October 22, 2015  3.43  \n",
       "13                      Katy Perry  September 5, 2013  3.34  \n",
       "14                       El Chombo      April 5, 2018  3.28  \n",
       "15                     OneRepublic       May 31, 2013  3.27  \n",
       "16                      Ed Sheeran    October 7, 2014  3.24  \n",
       "17                      Katy Perry  February 20, 2014  3.05  \n",
       "18                     Alan Walker   December 3, 2015  3.05  \n",
       "19                    Taylor Swift    August 18, 2014  3.05  \n",
       "20            Major Lazer Official     March 22, 2015  3.02  \n",
       "21                Enrique Iglesias     April 11, 2014  3.01  \n",
       "22                        Maroon 5       May 31, 2018  3.01  \n",
       "23                       Passenger      July 25, 2012  2.97  \n",
       "24                        J Balvin      June 29, 2017  2.90  \n",
       "25      Cocomelon – Nursery Rhymes       May 24, 2018  2.89  \n",
       "26                           Adele   October 22, 2015  2.83  \n",
       "27                      Ed Sheeran   November 9, 2017  2.82  \n",
       "28                         Shakira       June 4, 2010  2.80  \n",
       "29                      Crazy Frog      June 16, 2009  2.77  "
      ]
     },
     "execution_count": 192,
     "metadata": {},
     "output_type": "execute_result"
    }
   ],
   "source": [
    "Youtube"
   ]
  },
  {
   "cell_type": "code",
   "execution_count": 193,
   "metadata": {},
   "outputs": [],
   "source": [
    "Youtube.to_csv(\"Youtube.csv\")"
   ]
  },
  {
   "cell_type": "code",
   "execution_count": 194,
   "metadata": {},
   "outputs": [],
   "source": [
    "driver.close()"
   ]
  },
  {
   "cell_type": "code",
   "execution_count": null,
   "metadata": {},
   "outputs": [],
   "source": []
  },
  {
   "cell_type": "code",
   "execution_count": null,
   "metadata": {},
   "outputs": [],
   "source": []
  },
  {
   "cell_type": "code",
   "execution_count": null,
   "metadata": {},
   "outputs": [],
   "source": []
  },
  {
   "cell_type": "code",
   "execution_count": null,
   "metadata": {},
   "outputs": [],
   "source": []
  },
  {
   "cell_type": "code",
   "execution_count": null,
   "metadata": {},
   "outputs": [],
   "source": []
  },
  {
   "cell_type": "code",
   "execution_count": null,
   "metadata": {},
   "outputs": [],
   "source": []
  },
  {
   "cell_type": "code",
   "execution_count": null,
   "metadata": {},
   "outputs": [],
   "source": []
  }
 ],
 "metadata": {
  "kernelspec": {
   "display_name": "Python 3",
   "language": "python",
   "name": "python3"
  },
  "language_info": {
   "codemirror_mode": {
    "name": "ipython",
    "version": 3
   },
   "file_extension": ".py",
   "mimetype": "text/x-python",
   "name": "python",
   "nbconvert_exporter": "python",
   "pygments_lexer": "ipython3",
   "version": "3.8.3"
  }
 },
 "nbformat": 4,
 "nbformat_minor": 4
}
